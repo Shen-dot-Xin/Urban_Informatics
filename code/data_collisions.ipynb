# %% codecell
import warnings
warnings.filterwarnings("ignore")

import numpy as np
import pandas as pd
import geopandas as gpd # GeoPandas library for spatial analytics
from shapely.geometry import shape
from shapely.geometry import Point

from urllib.parse import urlencode
import urllib.request, json

import networkx as nx #library supporting networks

import matplotlib.pyplot as plt
import seaborn as sns # visualization styling package
%matplotlib inline

import mapclassify
# %% codecell
from geopandas import GeoDataFrame

import matplotlib.ticker as ticker

plt.rcParams['figure.dpi']= 150
# %% codecell
pd.set_option('display.max_columns', None)
pd.set_option('display.max_rows', 50)
# %% codecell
# Say, "the default sans-serif font is COMIC SANS"
plt.rcParams['font.sans-serif'] = "Helvetica"
# Then, "ALWAYS use sans-serif fonts"
plt.rcParams['font.family'] = "sans-serif"
# %% codecell
collision = pd.read_csv('../01_Data/Motor vehicle collisions/Motor Collision_2019.csv')
# %% codecell
collision.shape
# %% codecell
collision.head()
# %% codecell
collision_gdf = gpd.GeoDataFrame(
    collision, geometry=gpd.points_from_xy(collision['LONGITUDE'],collision['LATITUDE']))
# %% codecell
collision_gdf = collision_gdf.dropna(subset=['LONGITUDE', 'LATITUDE'])
# %% codecell
collision_gdf = collision_gdf[collision_gdf['LATITUDE']>0]
# %% codecell
len (collision_gdf)
# %% codecell
collision_gdf.set_crs(epsg=2263, inplace=True)
# %% codecell
collision_gdf.head()
# %% codecell
collision_gdf.to_file("../01_Data/collision_2019.shp")
# %% codecell
collision_gdf_severe = collision_gdf[(
                        collision_gdf['NUMBER OF PEDESTRIANS INJURED']!= 0) |
                        (collision_gdf['NUMBER OF PEDESTRIANS KILLED']!= 0) |
                        (collision_gdf['NUMBER OF CYCLIST INJURED']!= 0) |
                        (collision_gdf['NUMBER OF CYCLIST KILLED']!= 0)]
# %% codecell
collision_gdf_severe.to_file("../01_Data/collision_severe_2019.shp")
# %% codecell
