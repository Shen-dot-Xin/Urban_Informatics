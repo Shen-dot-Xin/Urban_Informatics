# %% codecell
import warnings
warnings.filterwarnings("ignore")

import numpy as np
import pandas as pd
import geopandas as gpd # GeoPandas library for spatial analytics
from shapely.geometry import shape
from shapely.geometry import Point

from urllib.parse import urlencode
import urllib.request, json

import networkx as nx #library supporting networks

import matplotlib.pyplot as plt
import seaborn as sns # visualization styling package
%matplotlib inline

import mapclassify
# %% codecell
from geopandas import GeoDataFrame
import matplotlib.ticker as ticker
plt.rcParams['figure.dpi']= 150
# %% codecell
# set default font
plt.rcParams['font.sans-serif'] = "Helvetica"
# always use sans-serif fonts
plt.rcParams['font.family'] = "sans-serif"

# %%markdown
# ## Pavement Score

# %% codecell
pavement = pd.read_csv('../01_Data/Pavement_Buffer.csv')
# %% codecell
ID = pavement.groupby(['ID']).sum().reset_index()
ID = ID.rename(columns={"Length": "Length_total"})
ID = ID[['ID','Length_total']]

# %% codecell
pavement_ID = pavement.merge(ID)
# %% codecell
pavement_ID['Rating_Power'] = pavement_ID['Rating_B']*pavement_ID['Length']/pavement_ID['Length_total']
# %% codecell
pavement_score = pavement_ID.groupby(['ID']).sum().reset_index()[['ID','Rating_Power']]
pavement_score = pavement_score.rename(columns={"Rating_Power": "Rating"})
# %% codecell
pavement_score.head()

# %%markdown
# ## Sidewalk Score

# %% codecell
sidewalkwidth = gpd.read_file('../01_Data/sidewalkwidth_power.shp')
# sidewalkwidth['ID_2'].nunique()
# ID = sidewalkwidth.groupby(['ID_2']).count()
# ID.shape
# %% codecell
sidewalkwidth = sidewalkwidth[['width','ID_2','length']]
# %% codecell
sidewalkwidth['power']=sidewalkwidth['width']*sidewalkwidth['length']
# %% codecell
ID = sidewalkwidth.groupby(['ID_2']).sum().reset_index()
ID = ID.rename(columns={"length": "Length_total","ID_2":"ID"})
# %% codecell
ID = ID[['ID','Length_total']]
# %% codecell
sidewalkwidth2 = sidewalkwidth.merge(ID)
# %% codecell
sidewalkwidth2['Rating_Power'] = sidewalkwidth2['width']*sidewalkwidth2['length']/sidewalkwidth2['Length_total']
# %% codecell
sidewalkwidth_score = sidewalkwidth2.groupby(['ID']).sum().reset_index()
sidewalkwidth_score = sidewalkwidth_score.rename(columns={"Rating": "Width"})
# %% codecell
sidewalkwidth_score = sidewalkwidth_score[['ID','Width']]
sidewalkwidth_score.to_csv('../01_Data/sidewalkwidth_final.csv')

# %% codecell
# Visualization
buffer = gpd.read_file('../01_Data/Intersection_Buffer.shp')
buffer_pavement = buffer.merge(pavement_score)

# %% codecell
buffer_pavement = pavement_gdf.set_crs(crs='epsg:2263',allow_override=True)
# %% codecell
fig, ax = plt.subplots(figsize=(12,12))

buffer_pavement.plot(ax=ax,column='Rating', cmap='PiYG', scheme='quantiles',legend=True)
# %% codecell
# buffer_pavement.to_file('../01_Data/buffer_pavement_rating.shp')
